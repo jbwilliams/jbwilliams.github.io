{
 "cells": [
  {
   "cell_type": "raw",
   "metadata": {},
   "source": [
    "---\n",
    "title: Decorator\n",
    "---"
   ]
  },
  {
   "cell_type": "markdown",
   "metadata": {},
   "source": [
    "[comment]: <> (The book says: \"Decorator attaches additional responsibilities to an object dynamically. Provides a flexible alternative to subclassing for extending functionality.\")\n",
    "\n",
    "The Decorator pattern lets you extend the functionality of a class without modifying the class' code and without subclassing.\n",
    "\n",
    "## Our first design\n",
    "\n",
    "Say we're building an ordering system for a coffee shop, and we want to design classes to represent the drinks ordered. The system will create an object for each drink, and will need to have each object return its description and price.\n",
    "\n",
    "Our first design uses a Beverage class that knows about the condiments that can be included in a drink (e.g. milk, mocha). Subclasses of Beverage represent the different types of coffee (e.g. House Blend, Decaf) have the drink-specific descriptions and prices."
   ]
  },
  {
   "cell_type": "code",
   "execution_count": 1,
   "metadata": {
    "tags": []
   },
   "outputs": [],
   "source": [
    "class Beverage:\n",
    "    milkCost = 0.10\n",
    "    soyCost = 0.15\n",
    "    mochaCost = 0.20\n",
    "    \n",
    "    def __init__(self, hasMilk=False, hasSoy=False, hasMocha=False):\n",
    "        self.hasMilk = hasMilk\n",
    "        self.hasSoy = hasSoy\n",
    "        self.hasMocha = hasMocha\n",
    "        \n",
    "    def __str__(self):\n",
    "        return \"Unknown Beverage\"\n",
    "    \n",
    "    def get_condiment_cost(self):\n",
    "        condimentCost = 0.0\n",
    "        if self.hasMilk:\n",
    "            condimentCost += self.milkCost\n",
    "        if self.hasSoy:\n",
    "            condimentCost += self.soyCost\n",
    "        if self.hasMocha:\n",
    "            condimentCost += self.mochaCost\n",
    "        return condimentCost\n",
    "    \n",
    "    def get_condiment_desc(self):\n",
    "        condimentDesc = \"\"\n",
    "        if self.hasMilk:\n",
    "            condimentDesc += \", add Milk\"\n",
    "        if self.hasSoy:\n",
    "            condimentDesc += \", add Soy\"\n",
    "        if self.hasMocha:\n",
    "            condimentDesc += \", add Mocha\"\n",
    "        return condimentDesc\n",
    "    \n",
    "###########################\n",
    "class HouseBlend(Beverage):\n",
    "    def __str__(self):\n",
    "        return \"House Blend\" + super().get_condiment_desc()\n",
    "    \n",
    "    def get_cost(self):\n",
    "        return 0.89 + super().get_condiment_cost() \n",
    "    \n",
    "class DarkRoast(Beverage):\n",
    "    def __str__(self):\n",
    "        return \"Dark Roast\" + super().get_condiment_desc()\n",
    "    \n",
    "    def get_cost(self):\n",
    "        return 0.99 + super().get_condiment_cost()\n",
    "    \n",
    "class Decaf(Beverage):    \n",
    "    def __str__(self):\n",
    "        return \"Decaf\" + super().get_condiment_desc()\n",
    "    \n",
    "    def get_cost(self):\n",
    "        return 1.05 + super().get_condiment_cost()"
   ]
  },
  {
   "cell_type": "markdown",
   "metadata": {},
   "source": [
    "Let's see how to use these classes.\n",
    "\n",
    "A list of drink objects represents the order, and we can have the objects print out their descriptions and prices."
   ]
  },
  {
   "cell_type": "code",
   "execution_count": 2,
   "metadata": {
    "tags": []
   },
   "outputs": [
    {
     "name": "stdout",
     "output_type": "stream",
     "text": [
      "Decaf, add Milk, add Mocha: $1.35\n",
      "Dark Roast, add Soy: $1.14\n"
     ]
    }
   ],
   "source": [
    "order = [Decaf(hasMilk=True, hasMocha=True),\n",
    "         DarkRoast(hasSoy=True)]\n",
    "\n",
    "for bev in order:\n",
    "    print(f'{bev}: ${bev.get_cost()}')"
   ]
  },
  {
   "cell_type": "markdown",
   "metadata": {},
   "source": [
    "### The burden of this design\n",
    "\n",
    "Now suppose our coffee shop adds a new condiment to the menu: Whip. Because knowledge of the condiments was designed into the Beverage class, that's where we need to make changes to add this menu item."
   ]
  },
  {
   "cell_type": "code",
   "execution_count": 3,
   "metadata": {
    "tags": []
   },
   "outputs": [],
   "source": [
    "class Beverage:\n",
    "    milkCost = 0.10\n",
    "    soyCost = 0.15\n",
    "    mochaCost = 0.20\n",
    "    whipCost = 0.10                         # <--- add a class variable # <1>\n",
    "    \n",
    "    def __init__(self, hasMilk=False, hasSoy=False, hasMocha=False, \n",
    "                 hasWhip=False):            # <--- change the interface # <2>\n",
    "        self.hasMilk = hasMilk              \n",
    "        self.hasSoy = hasSoy\n",
    "        self.hasMocha = hasMocha\n",
    "        self.hasWhip = hasWhip              # <--- add an instance variable # <3>\n",
    "        \n",
    "    def __str__(self):\n",
    "        return \"Unknown Beverage\"\n",
    "    \n",
    "    def get_condiment_cost(self):\n",
    "        condimentCost = 0.0\n",
    "        if self.hasMilk:\n",
    "            condimentCost += self.milkCost\n",
    "        if self.hasSoy:\n",
    "            condimentCost += self.soyCost\n",
    "        if self.hasMocha:\n",
    "            condimentCost += self.mochaCost\n",
    "        if self.hasWhip:                    # <--- add new logic # <4>\n",
    "            condimentCost += self.whipCost\n",
    "        return condimentCost\n",
    "    \n",
    "    def get_condiment_desc(self):\n",
    "        condimentDesc = \"\"\n",
    "        if self.hasMilk:\n",
    "            condimentDesc += \", add Milk\"\n",
    "        if self.hasSoy:\n",
    "            condimentDesc += \", add Soy\"\n",
    "        if self.hasMocha:\n",
    "            condimentDesc += \", add Mocha\"\n",
    "        if self.hasWhip:                    # <--- add new logic # <5>\n",
    "            condimentDesc += \", add Whip\"\n",
    "        return condimentDesc"
   ]
  },
  {
   "cell_type": "code",
   "execution_count": 4,
   "metadata": {
    "tags": []
   },
   "outputs": [],
   "source": [
    "#| echo: False\n",
    "\n",
    "# These don't change, but we do need to re-run this block of code\n",
    "\n",
    "class HouseBlend(Beverage):\n",
    "    def __str__(self):\n",
    "        return \"House Blend\" + super().get_condiment_desc()\n",
    "    \n",
    "    def get_cost(self):\n",
    "        return 0.89 + super().get_condiment_cost() \n",
    "    \n",
    "class DarkRoast(Beverage):\n",
    "    def __str__(self):\n",
    "        return \"Dark Roast\" + super().get_condiment_desc()\n",
    "    \n",
    "    def get_cost(self):\n",
    "        return 0.99 + super().get_condiment_cost()\n",
    "    \n",
    "class Decaf(Beverage):    \n",
    "    def __str__(self):\n",
    "        return \"Decaf\" + super().get_condiment_desc()\n",
    "    \n",
    "    def get_cost(self):\n",
    "        return 1.05 + super().get_condiment_cost()"
   ]
  },
  {
   "cell_type": "markdown",
   "metadata": {},
   "source": [
    "Now we can add Whip to our drinks."
   ]
  },
  {
   "cell_type": "code",
   "execution_count": 5,
   "metadata": {
    "tags": []
   },
   "outputs": [
    {
     "name": "stdout",
     "output_type": "stream",
     "text": [
      "Decaf, add Milk, add Mocha: $1.35\n",
      "Dark Roast, add Whip: $1.09\n"
     ]
    }
   ],
   "source": [
    "order = [Decaf(hasMilk=True, hasMocha=True),\n",
    "         DarkRoast(hasWhip=True)]\n",
    "\n",
    "for bev in order:\n",
    "    print(f'{bev}: ${bev.get_cost()}')"
   ]
  },
  {
   "cell_type": "markdown",
   "metadata": {},
   "source": [
    "Notice the big disadvantage of this design. To add the new condiment, we were forced to make changes to almost every part of the Beverage class. But Beverage was already working well; we would really prefer to leave it alone rather than open it up and risk breaking something."
   ]
  },
  {
   "cell_type": "markdown",
   "metadata": {},
   "source": [
    "## An easy-to-change design using Decorator\n",
    "\n",
    "[comment]: <> (Next: look at the various versions side-by-side, for easier comparison)\n",
    "\n",
    "Let's see how the Decorator pattern makes our design easier to change."
   ]
  },
  {
   "cell_type": "code",
   "execution_count": 6,
   "metadata": {
    "tags": []
   },
   "outputs": [],
   "source": [
    "# Beverage and its subclasses know nothing about condiments:\n",
    "\n",
    "class Beverage:       \n",
    "    def __str__(self):\n",
    "        return \"Unknown Beverage\"\n",
    "\n",
    "\n",
    "class HouseBlend(Beverage):\n",
    "    def get_cost(self):\n",
    "        return 0.89\n",
    "    \n",
    "    def __str__(self):\n",
    "        return \"House Blend\"\n",
    "        \n",
    "class DarkRoast(Beverage):\n",
    "    def get_cost(self):\n",
    "        return 0.99\n",
    "    \n",
    "    def __str__(self):\n",
    "        return \"Dark Roast\"\n",
    "    \n",
    "class Decaf(Beverage):\n",
    "    def get_cost(self):\n",
    "        return 1.05\n",
    "    \n",
    "    def __str__(self):\n",
    "        return \"Decaf\"\n",
    "    \n",
    "############################\n",
    "# Here are the decorators\n",
    "\n",
    "class CondimentDecorator(Beverage):\n",
    "    def __init__(self, beverage):\n",
    "        super().__init__()\n",
    "        self.beverage = beverage\n",
    "        \n",
    "class Milk(CondimentDecorator):\n",
    "    def __str__(self):\n",
    "        return self.beverage.__str__() + \", add Milk\"\n",
    "    \n",
    "    def get_cost(self):\n",
    "        return self.beverage.get_cost() + 0.10\n",
    "\n",
    "class Soy(CondimentDecorator):\n",
    "    def __str__(self):\n",
    "        return self.beverage.__str__() + \", add Soy\"\n",
    "    \n",
    "    def get_cost(self):\n",
    "        return self.beverage.get_cost() + 0.15\n",
    "    \n",
    "class Mocha(CondimentDecorator):\n",
    "    def __str__(self):\n",
    "        return self.beverage.__str__() + \", add Mocha\"\n",
    "    \n",
    "    def get_cost(self):\n",
    "        return self.beverage.get_cost() + 0.20"
   ]
  },
  {
   "cell_type": "markdown",
   "metadata": {},
   "source": [
    "The usage of these classes now looks different. Instead of specifying the condiments in the call to the constructor, we wrap the constructor with the decorators:"
   ]
  },
  {
   "cell_type": "code",
   "execution_count": 7,
   "metadata": {
    "tags": []
   },
   "outputs": [
    {
     "name": "stdout",
     "output_type": "stream",
     "text": [
      "Decaf, add Mocha, add Milk: $1.35\n",
      "Dark Roast, add Soy: $1.14\n"
     ]
    }
   ],
   "source": [
    "order = [Milk(Mocha(Decaf())),\n",
    "         Soy(DarkRoast())]\n",
    "\n",
    "for bev in order:\n",
    "    print(f'{bev}: ${bev.get_cost()}')"
   ]
  },
  {
   "cell_type": "markdown",
   "metadata": {},
   "source": [
    "### The payoff\n",
    "\n",
    "When we enhance our system with the new Whip condiment, we don't need to modify *any* existing class. We only have to define a new subclass of the decorator. "
   ]
  },
  {
   "cell_type": "code",
   "execution_count": 8,
   "metadata": {
    "tags": []
   },
   "outputs": [],
   "source": [
    "class Whip(CondimentDecorator):\n",
    "    def __str__(self):\n",
    "        return self.beverage.__str__() + \", add Whip\"\n",
    "    \n",
    "    def get_cost(self):\n",
    "        return self.beverage.get_cost() + 0.10"
   ]
  },
  {
   "cell_type": "markdown",
   "metadata": {},
   "source": [
    "And with that one addition, we can add Whip to the menu:"
   ]
  },
  {
   "cell_type": "code",
   "execution_count": 9,
   "metadata": {
    "tags": []
   },
   "outputs": [
    {
     "name": "stdout",
     "output_type": "stream",
     "text": [
      "Decaf, add Mocha, add Milk: $1.35\n",
      "Dark Roast, add Whip: $1.09\n"
     ]
    }
   ],
   "source": [
    "order = [Milk(Mocha(Decaf())),\n",
    "         Whip(DarkRoast())]\n",
    "\n",
    "for bev in order:\n",
    "    print(f'{bev}: ${bev.get_cost()}')"
   ]
  }
 ],
 "metadata": {
  "kernelspec": {
   "display_name": "Quarto environment",
   "language": "python",
   "name": "qenv"
  },
  "language_info": {
   "codemirror_mode": {
    "name": "ipython",
    "version": 3
   },
   "file_extension": ".py",
   "mimetype": "text/x-python",
   "name": "python",
   "nbconvert_exporter": "python",
   "pygments_lexer": "ipython3",
   "version": "3.9.17"
  }
 },
 "nbformat": 4,
 "nbformat_minor": 4
}
